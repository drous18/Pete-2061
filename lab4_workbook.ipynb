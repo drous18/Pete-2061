{
 "cells": [
  {
   "cell_type": "markdown",
   "metadata": {
    "colab_type": "text",
    "id": "u1YDPNtbdHDj"
   },
   "source": [
    "# Control Structures and Data Frames\n",
    "\n",
    "## PETE 2061 Lab 4 Workbook \n",
    "\n",
    "## THIS IS DUE BY 11:59 PM ON SUNDAY (Sept 22, 2019)\n",
    "\n",
    "<a id='top'></a>"
   ]
  },
  {
   "cell_type": "markdown",
   "metadata": {},
   "source": [
    "1. Paste the url (or link) to the pete2061 folder in your github account in the \"marked down\" cell below. <br>"
   ]
  },
  {
   "cell_type": "markdown",
   "metadata": {},
   "source": [
    "https://github.com/drous18/Pete-2061"
   ]
  },
  {
   "cell_type": "markdown",
   "metadata": {},
   "source": []
  },
  {
   "cell_type": "markdown",
   "metadata": {},
   "source": [
    "2. It is commonly said that one human year is equivalent to 7 dog years. However, this simple conversion fails to recognize that dogs reach adulthood in approximately two years. As a result, some people believe that it is better to count each of the first two human years as 10.5 dog years, and then count each additional human year as 4 dog\n",
    "years. <br>\n",
    "Write a program that implements the conversion from human years to dog years described in the previous paragraph. Ensure that your program works correctly for conversions of less than two human years and for conversions of two or more human years. Your program should generate a random number between 0 and 10. <br>\n",
    "Hints: <br>\n",
    "a. Remember that you can generate a random number between 0 and 1 using the function numpy.random.random(1)<br>\n",
    "b. You can scale this random number to go from 0 to 10 by multiplying it by 10<br>\n",
    "c. At this point what you have is a random floating-point number that goes from 0 to 10. You need to convert this floating-point number to an integer using the int() function."
   ]
  },
  {
   "cell_type": "code",
   "execution_count": 4,
   "metadata": {},
   "outputs": [
    {
     "name": "stdout",
     "output_type": "stream",
     "text": [
      "9\n"
     ]
    },
    {
     "data": {
      "text/plain": [
       "int"
      ]
     },
     "execution_count": 4,
     "metadata": {},
     "output_type": "execute_result"
    }
   ],
   "source": [
    "import numpy as np\n",
    "year = 10*(np.random.random(1))\n",
    "year1= int(year)\n",
    "print(year1)\n",
    "type(year1)"
   ]
  },
  {
   "cell_type": "code",
   "execution_count": 6,
   "metadata": {},
   "outputs": [
    {
     "name": "stdout",
     "output_type": "stream",
     "text": [
      "49\n"
     ]
    }
   ],
   "source": [
    "if year1 <= 2:\n",
    "    yearb = year1*10.5\n",
    "    print(yearb)\n",
    "elif year1 > 2:\n",
    "    yeara = (4*(year1-2))+21\n",
    "    print(yeara)\n"
   ]
  },
  {
   "cell_type": "markdown",
   "metadata": {},
   "source": [
    "3. For Students A through J, generate 10 different random numbers between 0 and 100. Create a dataframe to store the student names in the first column (called \"Name\"), and store the scores in the second column called \"Score\".\n",
    "   Print out the mean, standard deviation and maximum of the scores, as well as the index of the student with this maximum score. "
   ]
  },
  {
   "cell_type": "code",
   "execution_count": 22,
   "metadata": {},
   "outputs": [
    {
     "name": "stdout",
     "output_type": "stream",
     "text": [
      "[[18.0151164 ]\n",
      " [35.12915547]\n",
      " [ 1.01486621]\n",
      " [ 9.60246132]\n",
      " [33.57061244]\n",
      " [94.37691607]\n",
      " [17.35048466]\n",
      " [79.2747133 ]\n",
      " [68.55642914]\n",
      " [47.55606995]]\n"
     ]
    }
   ],
   "source": [
    "List = np.random.random((10,1))*100\n",
    "print(List)"
   ]
  },
  {
   "cell_type": "code",
   "execution_count": 23,
   "metadata": {},
   "outputs": [
    {
     "name": "stdout",
     "output_type": "stream",
     "text": [
      "       Score\n",
      "A  18.015116\n",
      "B  35.129155\n",
      "C   1.014866\n",
      "D   9.602461\n",
      "E  33.570612\n",
      "F  94.376916\n",
      "G  17.350485\n",
      "H  79.274713\n",
      "I  68.556429\n",
      "J  47.556070\n"
     ]
    }
   ],
   "source": [
    "import pandas as pd\n",
    "df = pd.DataFrame(List,index = \"A B C D E F G H I J\".split(), columns = \"Score\".split())\n",
    "print(df)"
   ]
  },
  {
   "cell_type": "code",
   "execution_count": 37,
   "metadata": {},
   "outputs": [
    {
     "data": {
      "text/plain": [
       "(Score    40.444682\n",
       " dtype: float64, Score    31.402738\n",
       " dtype: float64, Score    94.376916\n",
       " dtype: float64)"
      ]
     },
     "execution_count": 37,
     "metadata": {},
     "output_type": "execute_result"
    }
   ],
   "source": [
    "df.mean(), df.std(), df.max()"
   ]
  },
  {
   "cell_type": "code",
   "execution_count": 33,
   "metadata": {},
   "outputs": [
    {
     "data": {
      "text/html": [
       "<div>\n",
       "<style scoped>\n",
       "    .dataframe tbody tr th:only-of-type {\n",
       "        vertical-align: middle;\n",
       "    }\n",
       "\n",
       "    .dataframe tbody tr th {\n",
       "        vertical-align: top;\n",
       "    }\n",
       "\n",
       "    .dataframe thead th {\n",
       "        text-align: right;\n",
       "    }\n",
       "</style>\n",
       "<table border=\"1\" class=\"dataframe\">\n",
       "  <thead>\n",
       "    <tr style=\"text-align: right;\">\n",
       "      <th></th>\n",
       "      <th>Score</th>\n",
       "    </tr>\n",
       "  </thead>\n",
       "  <tbody>\n",
       "    <tr>\n",
       "      <th>F</th>\n",
       "      <td>94.376916</td>\n",
       "    </tr>\n",
       "  </tbody>\n",
       "</table>\n",
       "</div>"
      ],
      "text/plain": [
       "       Score\n",
       "F  94.376916"
      ]
     },
     "execution_count": 33,
     "metadata": {},
     "output_type": "execute_result"
    }
   ],
   "source": [
    "df.loc[[\"F\"],[\"Score\"]]"
   ]
  },
  {
   "cell_type": "markdown",
   "metadata": {},
   "source": [
    "4. Write a program that begins by reading a score in percentage (%) from the user. Then your program should compute and display the equivalent letter grade. Ensure that your program generates an appropriate error message if the user enters an invalid score.\n",
    "Use the grading scale on your syllabus. These scores are typed in below."
   ]
  },
  {
   "cell_type": "code",
   "execution_count": 52,
   "metadata": {},
   "outputs": [],
   "source": [
    "letterGrade = ['A+','A','A-','B+','B','B-','C+','C','C-','D+','D','D-']\n",
    "scores = [97,93,90,87,83,80,77,73,70,67,63,60]\n",
    "# A score of less than 60 gets a letter grade of F"
   ]
  },
  {
   "cell_type": "code",
   "execution_count": 43,
   "metadata": {},
   "outputs": [
    {
     "name": "stdout",
     "output_type": "stream",
     "text": [
      "[98.76432643]\n",
      "A+\n"
     ]
    }
   ],
   "source": [
    "num = np.random.random(1)*100\n",
    "print(num)\n",
    "if num>=97 :\n",
    "    print(\"A+\")\n",
    "elif num>=93 : \n",
    "    print(\"A\")\n",
    "elif num>=90 :\n",
    "    print(\"A-\")\n",
    "elif num>=87 :\n",
    "    print(\"B+\")\n",
    "elif num>=83 :\n",
    "    print(\"B\")\n",
    "elif num>=80   :\n",
    "    print(\"B-\")\n",
    "elif num>=77  :\n",
    "    print(\"C+\")\n",
    "elif num>=73   :\n",
    "    print(\"C\")   \n",
    "elif num>=70   :\n",
    "    print(\"C-\")\n",
    "elif num>=67   :\n",
    "    print(\"D+\")\n",
    "elif num>=63   :\n",
    "    print(\"D\")\n",
    "elif num>=60   :\n",
    "    print(\"D-\")\n",
    "elif 60>num>0   :\n",
    "    print(\"F\")\n",
    "elif num<0 :\n",
    "    print(\"error\")"
   ]
  },
  {
   "cell_type": "markdown",
   "metadata": {},
   "source": [
    "5. Write a program that generates 10 random integers, and then prints the largest odd number that was entered. If no odd number was entered it should print a message to that effect. <br>\n",
    "Hints: <br>\n",
    "    a. Use pseudo-code. <br>\n",
    "    b. Generate a random number using the code below:<br>\n",
    "    myRandInt = np.random.randint(low=1, high=20, size=10)<br>\n",
    "    c. Initialize an empty list to contain the odd numbers. Name this list oddInt <br>\n",
    "    d. Within your for loop, you can append odd numbers to this empty list using the append function. eg: <br>\n",
    "    oddInt.append(\"The current odd number from the list should be put in here!\")"
   ]
  },
  {
   "cell_type": "code",
   "execution_count": 116,
   "metadata": {},
   "outputs": [
    {
     "name": "stdout",
     "output_type": "stream",
     "text": [
      "[]\n",
      "[10  8 12 12 15  1 12  5  9 19]\n"
     ]
    }
   ],
   "source": [
    "import numpy as np\n",
    "myRandInt = np.random.randint(low=1, high=20, size=10)\n",
    "oddInt = []\n",
    "print(oddInt)\n",
    "print(myRandInt)"
   ]
  },
  {
   "cell_type": "code",
   "execution_count": 119,
   "metadata": {
    "scrolled": true
   },
   "outputs": [
    {
     "name": "stdout",
     "output_type": "stream",
     "text": [
      "not odd\n",
      "not odd\n",
      "not odd\n",
      "not odd\n",
      "not odd\n"
     ]
    }
   ],
   "source": [
    "for n in myRandInt : \n",
    "    if (n%2) != 0 :\n",
    "        oddInt.append(n)\n",
    "        if (n%2)>0 :\n",
    "            print(\"not odd\")\n",
    "      "
   ]
  },
  {
   "cell_type": "code",
   "execution_count": 120,
   "metadata": {},
   "outputs": [
    {
     "name": "stdout",
     "output_type": "stream",
     "text": [
      "0    19\n",
      "dtype: int64\n"
     ]
    }
   ],
   "source": [
    "df1 = pd.DataFrame(oddInt)\n",
    "print(df1.max())"
   ]
  }
 ],
 "metadata": {
  "colab": {
   "collapsed_sections": [
    "sYQs3O-6dHFb",
    "8sIJ4A57dHFk",
    "_73RPOcBdHFn",
    "h9s2tfPcdHFo",
    "zt4YHVYPdHGR"
   ],
   "include_colab_link": true,
   "name": "Copy of intro-python-colab.ipynb",
   "provenance": [],
   "version": "0.3.2"
  },
  "kernelspec": {
   "display_name": "Python 3",
   "language": "python",
   "name": "python3"
  },
  "language_info": {
   "codemirror_mode": {
    "name": "ipython",
    "version": 3
   },
   "file_extension": ".py",
   "mimetype": "text/x-python",
   "name": "python",
   "nbconvert_exporter": "python",
   "pygments_lexer": "ipython3",
   "version": "3.7.3"
  }
 },
 "nbformat": 4,
 "nbformat_minor": 1
}
